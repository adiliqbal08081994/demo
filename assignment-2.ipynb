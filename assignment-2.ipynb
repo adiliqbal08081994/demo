{
 "cells": [
  {
   "cell_type": "code",
   "execution_count": 14,
   "metadata": {},
   "outputs": [
    {
     "data": {
      "text/plain": [
       "5542"
      ]
     },
     "execution_count": 14,
     "metadata": {},
     "output_type": "execute_result"
    }
   ],
   "source": [
    "\"\"\"1.1\n",
    "Write a Python Program to implement your own myreduce() function which works exactly like\n",
    "Python's built-in function reduce()\"\"\"\n",
    "\n",
    "def max_number(a,b):\n",
    "    if a>b:\n",
    "        return a\n",
    "    else:\n",
    "        return b\n",
    "\n",
    "def my_reduce(max_number,y):\n",
    "    a=y[0]\n",
    "    for i in range(len(y)):\n",
    "        b=y[i]\n",
    "        a=max_number(a,b)\n",
    "    return a\n",
    "t=[12,548,5542,876,856,25]\n",
    "my_reduce(max_number,t)"
   ]
  },
  {
   "cell_type": "code",
   "execution_count": 15,
   "metadata": {},
   "outputs": [
    {
     "data": {
      "text/plain": [
       "[1, 6]"
      ]
     },
     "execution_count": 15,
     "metadata": {},
     "output_type": "execute_result"
    }
   ],
   "source": [
    "\"\"\"1.2\n",
    "Write a Python program to implement your own myfilter() function which works exactly like\n",
    "Python's built-in function filter()\"\"\"\n",
    "def compare(x):\n",
    "        if x>0:\n",
    "            return True\n",
    "        else:\n",
    "            return False\n",
    "        \n",
    "    \n",
    "def my_filter(compare,y):\n",
    "    list1=[]\n",
    "    for i in range(len(y)):\n",
    "        x=compare(y[i])\n",
    "        if x==True:\n",
    "            list1.append(y[i])\n",
    "    return list1\n",
    "y=[1,-2,-5,6]\n",
    "z=my_filter(compare,y)\n",
    "z"
   ]
  },
  {
   "cell_type": "code",
   "execution_count": 16,
   "metadata": {},
   "outputs": [
    {
     "data": {
      "text/plain": [
       "['A', 'C', 'A', 'D', 'G', 'I', 'L', 'D']"
      ]
     },
     "execution_count": 16,
     "metadata": {},
     "output_type": "execute_result"
    }
   ],
   "source": [
    "\"\"\"Write List comprehensions to produce the Lists\n",
    "   ['A', 'C', 'A', 'D', 'G', 'I', ’L’, ‘ D’] \"\"\"\n",
    "x=list('ACADGILD')\n",
    "x"
   ]
  },
  {
   "cell_type": "code",
   "execution_count": 17,
   "metadata": {},
   "outputs": [
    {
     "data": {
      "text/plain": [
       "['x', 'xx', 'xxx', 'xxxx', 'y', 'yy', 'yyy', 'yyyy', 'z', 'zz', 'zzz', 'zzzz']"
      ]
     },
     "execution_count": 17,
     "metadata": {},
     "output_type": "execute_result"
    }
   ],
   "source": [
    "\"\"\"Write List comprehensions to produce the  Lists\n",
    "     ['x', 'xx', 'xxx', 'xxxx', 'y', 'yy', 'yyy', 'yyyy', 'z', 'zz', 'zzz', 'zzzz'] \"\"\"\n",
    "t=list('xyz')\n",
    "list1 = [i * j for j in t for i in range(1, 5)]\n",
    "list1\n"
   ]
  },
  {
   "cell_type": "code",
   "execution_count": 18,
   "metadata": {},
   "outputs": [
    {
     "data": {
      "text/plain": [
       "['x', 'y', 'z', 'xx', 'yy', 'zz', 'xxx', 'yyy', 'zzz', 'xxxx', 'yyyy', 'zzzz']"
      ]
     },
     "execution_count": 18,
     "metadata": {},
     "output_type": "execute_result"
    }
   ],
   "source": [
    "\"\"\"Write List comprehensions to produce the Lists\n",
    "  ['x', 'y', 'z', 'xx', 'yy', 'zz', 'xx', 'yy', 'zz', 'xxxx', 'yyyy', 'zzzz']\"\"\"\n",
    "t=list('xyz')\n",
    "list_ = [i * j for j in range(1, 5) for i in t]\n",
    "list_"
   ]
  },
  {
   "cell_type": "code",
   "execution_count": 19,
   "metadata": {},
   "outputs": [
    {
     "data": {
      "text/plain": [
       "[[2], [3], [4], [3], [4], [5], [4], [5], [6]]"
      ]
     },
     "execution_count": 19,
     "metadata": {},
     "output_type": "execute_result"
    }
   ],
   "source": [
    "\"\"\"Write List comprehensions to produce the following Lists\n",
    "[[2], [3], [4], [3], [4], [5], [4], [5], [6]]\"\"\"\n",
    "l=[[i+j]for j in [0,1,2]for i in range(2,5)]\n",
    "l"
   ]
  },
  {
   "cell_type": "code",
   "execution_count": 20,
   "metadata": {},
   "outputs": [
    {
     "data": {
      "text/plain": [
       "[[2, 3, 4, 5], [3, 4, 5, 6], [4, 5, 6, 7], [5, 6, 7, 8]]"
      ]
     },
     "execution_count": 20,
     "metadata": {},
     "output_type": "execute_result"
    }
   ],
   "source": [
    "\"\"\"Write List comprehensions to produce the following Lists\n",
    "[[2, 3, 4, 5], [3, 4, 5, 6], [4, 5, 6, 7], [5, 6, 7, 8]]\"\"\"\n",
    "list3 = [[i + j for j in [0, 1, 2, 3]] for i in range(2, 6)]\n",
    "list3"
   ]
  },
  {
   "cell_type": "code",
   "execution_count": 21,
   "metadata": {},
   "outputs": [
    {
     "data": {
      "text/plain": [
       "[(1, 1), (2, 1), (3, 1), (1, 2), (2, 2), (3, 2), (1, 3), (2, 3), (3, 3)]"
      ]
     },
     "execution_count": 21,
     "metadata": {},
     "output_type": "execute_result"
    }
   ],
   "source": [
    "\"\"\"Write List comprehensions to produce the following Lists\n",
    "   [(1, 1), (2, 1), (3, 1), (1, 2), (2, 2), (3, 2), (1, 3), (2, 3), (3, 3)]\"\"\"\n",
    "list4 = [(i,j) for j in [1, 2, 3] for i in [1, 2, 3]]\n",
    "list4"
   ]
  },
  {
   "cell_type": "code",
   "execution_count": 22,
   "metadata": {},
   "outputs": [
    {
     "name": "stdout",
     "output_type": "stream",
     "text": [
      "enter comma seperated words : acad,is,gild\n",
      "longest word : acad\n"
     ]
    }
   ],
   "source": [
    "\"\"\"3.\n",
    "Implement a function longestWord() that takes a list of words and returns the longest one.\"\"\"\n",
    "\n",
    "def longest_word():\n",
    "    \n",
    "    a = input(\"enter comma seperated words : \")\n",
    "    word = a.split(\",\")\n",
    "\n",
    "    y = []\n",
    "    \n",
    "    for i in range (0, len(word)):\n",
    "        y.append(len(word[i]))\n",
    "    \n",
    "    print(\"longest word :\",word[y.index(max(y))])\n",
    "\n",
    "longest_word()"
   ]
  },
  {
   "cell_type": "code",
   "execution_count": 23,
   "metadata": {},
   "outputs": [
    {
     "name": "stdout",
     "output_type": "stream",
     "text": [
      "Enter length of first side : 45\n",
      "Enter length of second side : 72\n",
      "Enter length of third side : 65\n",
      "area =  1438.0139081385826\n"
     ]
    }
   ],
   "source": [
    "\"\"\"1.1\n",
    "Write a Python Program(with class concepts) to find the area of the triangle using the below\n",
    "formula.\n",
    "area = (s*(s-a)*(s-b)*(s-c)) ** 0.5\n",
    "Function to take the length of the sides of triangle from user should be defined in the parent\n",
    "class and function to calculate the area should be defined in subclass.\"\"\"\n",
    "class Triangle:\n",
    "\n",
    "    def __init__(self, a, b, c):\n",
    "        \n",
    "        self.a = float(a)\n",
    "        self.b = float(b)\n",
    "        self.c = float(c)\n",
    "       \n",
    "    def area(self):\n",
    "        \n",
    "        s = (self.a+self.b+self.c) / 2\n",
    "        area = float((s*(s-self.a)*(s-self.b)*(s-self.c))**0.5)\n",
    "        return area\n",
    "\n",
    "side1 = float(input(\"Enter length of first side : \"))\n",
    "side2 = float(input(\"Enter length of second side : \"))\n",
    "side3 = float(input(\"Enter length of third side : \"))\n",
    "\n",
    "t1 = Triangle(side1,side2,side3)\n",
    "print('area = ', t1.area())"
   ]
  },
  {
   "cell_type": "code",
   "execution_count": 24,
   "metadata": {},
   "outputs": [
    {
     "name": "stdout",
     "output_type": "stream",
     "text": [
      "Enter comma seperated words : acad,is,gild\n",
      "Enter an integer : 2\n"
     ]
    },
    {
     "data": {
      "text/plain": [
       "['acad', 'gild']"
      ]
     },
     "execution_count": 24,
     "metadata": {},
     "output_type": "execute_result"
    }
   ],
   "source": [
    "\"\"\"1.2\n",
    "Write a function filter_long_words() that takes a list of words and an integer n and returns the list\n",
    "of words that are longer than n.\"\"\"\n",
    "def filter_long_words():\n",
    "    \n",
    "    y = []\n",
    "    words = input(\"Enter comma seperated words : \")\n",
    "    num = int(input(\"Enter an integer : \"))\n",
    "    x = words.split(\",\")\n",
    "    \n",
    "    for i in x:\n",
    "        \n",
    "        if len(i) > num:\n",
    "            y.append(i)\n",
    "        \n",
    "        \n",
    "    return y\n",
    "\n",
    "filter_long_words()"
   ]
  },
  {
   "cell_type": "code",
   "execution_count": 25,
   "metadata": {},
   "outputs": [
    {
     "name": "stdout",
     "output_type": "stream",
     "text": [
      "enter word or comma seperated wordsacad,is,gild\n",
      "List = ['acad', 'is', 'gild'] \n",
      "Length of words = [4, 2, 4]\n",
      "\n"
     ]
    }
   ],
   "source": [
    "\"\"\"2.1\n",
    "Write a Python program using function concept that maps list of words into a list of integers\n",
    "representing the lengths of the corresponding words .\n",
    "Hint: If a list [ ab,cde,erty] is passed on to the python function output should come as [2,3,4]\n",
    "Here 2,3 and 4 are the lengths of the words in the list.\"\"\"\n",
    "def length_of_word(x):\n",
    "    \n",
    "    if type(x) == str:\n",
    "        y = x.split(\",\")\n",
    "    \n",
    "    else:\n",
    "        y = x\n",
    "    \n",
    "    c = list(map(lambda y:len(y), y))\n",
    "    print(\"List =\", y, \"\\nLength of words \", end = \"= \")\n",
    "    print(c)\n",
    "    print()\n",
    "\n",
    "length_of_word(input(\"enter word or comma seperated words\"))"
   ]
  },
  {
   "cell_type": "code",
   "execution_count": null,
   "metadata": {},
   "outputs": [],
   "source": []
  }
 ],
 "metadata": {
  "kernelspec": {
   "display_name": "Python 3",
   "language": "python",
   "name": "python3"
  },
  "language_info": {
   "codemirror_mode": {
    "name": "ipython",
    "version": 3
   },
   "file_extension": ".py",
   "mimetype": "text/x-python",
   "name": "python",
   "nbconvert_exporter": "python",
   "pygments_lexer": "ipython3",
   "version": "3.7.3"
  }
 },
 "nbformat": 4,
 "nbformat_minor": 2
}
